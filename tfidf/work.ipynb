{
 "cells": [
  {
   "cell_type": "markdown",
   "metadata": {},
   "source": [
    "### If you want to see the text after cleaned..."
   ]
  },
  {
   "cell_type": "code",
   "execution_count": null,
   "metadata": {},
   "outputs": [],
   "source": [
    "from utils import stemming"
   ]
  },
  {
   "cell_type": "markdown",
   "metadata": {},
   "source": [
    "Running the cell below will result in the json corpus files mentioned in the ReadMe. This is due to the stemming function which writes the new json file."
   ]
  },
  {
   "cell_type": "code",
   "execution_count": null,
   "metadata": {},
   "outputs": [],
   "source": [
    "corpus_file_path = 'Data\\corpus.json\\corpus.json'\n",
    "lang = 'de'\n",
    "df_stem = stemming(corpus_file_path, lang)"
   ]
  },
  {
   "cell_type": "code",
   "execution_count": null,
   "metadata": {},
   "outputs": [],
   "source": [
    "# Read the JSON data from the file\n",
    "import pandas as pd\n",
    "lang = 'de'\n",
    "\n",
    "# 读取corpus.json文件\n",
    "df = pd.read_csv('Data/test/bm25_de_corpus.csv')\n",
    "df[['docid', 'text_token', 'lang']].to_json(f'Data/corpus.json/corpus_cleaned_{lang}_2.json', orient='records')\n",
    "\n",
    "print(df.head())\n",
    "\n"
   ]
  },
  {
   "cell_type": "code",
   "execution_count": null,
   "metadata": {},
   "outputs": [],
   "source": [
    "# use this to print full text\n",
    "print(df.iloc[1]['text'])"
   ]
  },
  {
   "cell_type": "markdown",
   "metadata": {},
   "source": [
    "### If you haven't got tf-idf..."
   ]
  },
  {
   "cell_type": "code",
   "execution_count": null,
   "metadata": {},
   "outputs": [],
   "source": [
    "# tf-idf generation\n",
    "\n",
    "from utils import *\n",
    "\n",
    "# preprocess\n",
    "lang = 'it' # language\n",
    "base_path = 'Data' # base path\n",
    "json_file_path = f'Data/corpus.json/corpus_cleaned_{lang}.json'  # input JSON file path\n",
    "\n",
    "tfidf_generate(json_file_path, base_path, lang)"
   ]
  },
  {
   "cell_type": "markdown",
   "metadata": {},
   "source": [
    "### If you want to test the accuracy directly..."
   ]
  },
  {
   "cell_type": "code",
   "execution_count": null,
   "metadata": {},
   "outputs": [],
   "source": [
    "# load resources\n",
    "import os\n",
    "from utils import *\n",
    "import pandas as pd\n",
    "lang = 'it' #choose language here!\n",
    "base_path = 'Data/tfidf'\n",
    "lang_folder = os.path.join(base_path, lang)\n",
    "vectorizer_path = os.path.join(lang_folder, f'saved_vectorizer.pkl')\n",
    "query_file_path = 'Data/dev.csv'  # input query file path\n",
    "tfidf_vectors_path = os.path.join(lang_folder, f'saved_vectors.json')\n",
    "\n",
    "\n",
    "# load resources\n",
    "vectorizer, tfidf_vectors = load_resources(vectorizer_path, tfidf_vectors_path)\n",
    "query_data = pd.read_csv(query_file_path)\n"
   ]
  },
  {
   "cell_type": "code",
   "execution_count": null,
   "metadata": {},
   "outputs": [],
   "source": [
    "query_data = pd.read_csv(query_file_path)\n",
    "evaluate_accuracy_from_vectors_for_cleaned_text(query_data, tfidf_vectors, vectorizer, 'it')\n"
   ]
  }
 ],
 "metadata": {
  "kernelspec": {
   "display_name": "disproject",
   "language": "python",
   "name": "python3"
  },
  "language_info": {
   "codemirror_mode": {
    "name": "ipython",
    "version": 3
   },
   "file_extension": ".py",
   "mimetype": "text/x-python",
   "name": "python",
   "nbconvert_exporter": "python",
   "pygments_lexer": "ipython3",
   "version": "3.9.20"
  }
 },
 "nbformat": 4,
 "nbformat_minor": 2
}
